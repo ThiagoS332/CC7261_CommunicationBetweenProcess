{
 "cells": [
  {
   "cell_type": "code",
   "execution_count": 1,
   "id": "9e78aaff",
   "metadata": {},
   "outputs": [
    {
     "name": "stdout",
     "output_type": "stream",
     "text": [
      "Insert the Inicial Code: 11032009\n",
      "Whatever da f*ck is this: 5001\n",
      "<socket.socket fd=1284, family=AddressFamily.AF_INET, type=SocketKind.SOCK_STREAM, proto=0, laddr=('192.168.10.112', 63176), raddr=('192.168.10.112', 6969)>\n",
      "Resposta do servidor: TOMA ESSA MERDA DE NUMERO FDP 1111216110950109\n"
     ]
    }
   ],
   "source": [
    "import socket\n",
    "inicial_code = str(int(input(\"Insert the Inicial Code: \")))\n",
    "n = str(int(input(\"Whatever da f*ck is this: \")))\n",
    "message_to_send = inicial_code + \"|\" + n\n",
    "with socket.socket(socket.AF_INET, socket.SOCK_STREAM) as s:\n",
    "    s.connect((\"192.168.10.112\", 6969))\n",
    "    print(s)\n",
    "    s.sendall(message_to_send.encode())\n",
    "    resposta = s.recv(1024)\n",
    "    print(f\"Resposta do servidor: {resposta.decode()}\")\n"
   ]
  }
 ],
 "metadata": {
  "kernelspec": {
   "display_name": "Python 3 (ipykernel)",
   "language": "python",
   "name": "python3"
  },
  "language_info": {
   "codemirror_mode": {
    "name": "ipython",
    "version": 3
   },
   "file_extension": ".py",
   "mimetype": "text/x-python",
   "name": "python",
   "nbconvert_exporter": "python",
   "pygments_lexer": "ipython3",
   "version": "3.9.7"
  }
 },
 "nbformat": 4,
 "nbformat_minor": 5
}
