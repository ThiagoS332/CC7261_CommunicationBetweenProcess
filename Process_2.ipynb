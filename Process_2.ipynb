{
 "cells": [
  {
   "cell_type": "code",
   "execution_count": null,
   "id": "d5add544",
   "metadata": {},
   "outputs": [
    {
     "name": "stdout",
     "output_type": "stream",
     "text": [
      "<socket.socket fd=1344, family=AddressFamily.AF_INET, type=SocketKind.SOCK_STREAM, proto=0, laddr=('192.168.10.112', 6969)>\n",
      "FILHO da P*TA conectado: ('192.168.10.112', 63176)\n",
      "<socket.socket fd=1380, family=AddressFamily.AF_INET, type=SocketKind.SOCK_STREAM, proto=0, laddr=('192.168.10.112', 63177), raddr=('192.168.10.112', 42069)>\n",
      "Resposta do servidor: 1111216110950109\n"
     ]
    }
   ],
   "source": [
    "import socket\n",
    "with socket.socket(socket.AF_INET, socket.SOCK_STREAM) as server:\n",
    "    server.bind((socket.gethostname(), 6969))\n",
    "    print(server)\n",
    "    server.listen()\n",
    "    while True:\n",
    "        conexao, addr = server.accept()\n",
    "        with conexao:\n",
    "            print(f\"FILHO da P*TA conectado: {addr}\")\n",
    "            while True:\n",
    "                sent_data = conexao.recv(1024)\n",
    "                if not sent_data:\n",
    "                    break\n",
    "                decoded_data = sent_data.decode()\n",
    "                data_list = decoded_data.split(\"|\")\n",
    "                inicial_code = int(data_list[0])\n",
    "                n = int(data_list[1])\n",
    "                if(inicial_code <= 10000000):\n",
    "                    conexao.sendall(b\"MANDA O CODIGO INICIAL DIREITO DESGRAssA. METE O PEh\")\n",
    "                    break\n",
    "                if(n < 5000 or n > 15000):\n",
    "                    conexao.sendall(b\"MANDA O BAGULHO DESCONHECIDO CERTO RAPUTENGA. METE O PEh\")\n",
    "                    break\n",
    "                #print(f\"Mensagem recebida: {dados.decode()}\")\n",
    "                with socket.socket(socket.AF_INET, socket.SOCK_STREAM) as process_client:\n",
    "                    process_client.connect((\"192.168.10.112\", 42069))\n",
    "                    print(process_client)\n",
    "                    message_to_send = str(inicial_code) + \"|\" + str(n)\n",
    "                    process_client.sendall(message_to_send.encode())\n",
    "                    dados = process_client.recv(1024)\n",
    "                    print(f\"Resposta do servidor: {dados.decode()}\")\n",
    "                    answer = \"TOMA ESSA MERDA DE NUMERO FDP \" + dados.decode()\n",
    "                conexao.sendall(answer.encode())\n"
   ]
  }
 ],
 "metadata": {
  "kernelspec": {
   "display_name": "Python 3 (ipykernel)",
   "language": "python",
   "name": "python3"
  },
  "language_info": {
   "codemirror_mode": {
    "name": "ipython",
    "version": 3
   },
   "file_extension": ".py",
   "mimetype": "text/x-python",
   "name": "python",
   "nbconvert_exporter": "python",
   "pygments_lexer": "ipython3",
   "version": "3.9.7"
  }
 },
 "nbformat": 4,
 "nbformat_minor": 5
}
