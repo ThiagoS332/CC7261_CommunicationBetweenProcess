{
 "cells": [
  {
   "cell_type": "code",
   "execution_count": null,
   "id": "c543dd93",
   "metadata": {},
   "outputs": [
    {
     "name": "stdout",
     "output_type": "stream",
     "text": [
      "Insert the amount of loops you want: 2\n",
      "CODIGO INICIAL == 15\n",
      "N == 2\n",
      "TIME == 0.6419992446899414\n",
      "False\n"
     ]
    }
   ],
   "source": [
    "import http.client\n",
    "import json\n",
    "import random\n",
    "import time\n",
    "\n",
    "loops = int(input(\"Insert the amount of loops you want: \"))\n",
    "\n",
    "# realiza o input dos dados\n",
    "#inicial_code = str(int(input(\"Insert the Inicial Code (higher than 12000000): \")))\n",
    "#n = str(int(input(\"Insert the N-th range for the key (between 500 and 15000): \")))\n",
    "\n",
    "start = time.time()\n",
    "time_mark_reached = False\n",
    "\n",
    "for i in range(loops):\n",
    "    \n",
    "    if (i == 0):\n",
    "        aurelio = {\n",
    "            \"initial_code\": 15,\n",
    "            \"n\": 2\n",
    "        }\n",
    "    else:\n",
    "        aurelio[\"initial_code\"] = random.randint(10000000,2000000000)\n",
    "        aurelio[\"n\"] = random.randint(5000,15001)\n",
    "    \n",
    "    conn = http.client.HTTPSConnection(\"8d55dd9d.us-south.apigw.appdomain.cloud\")\n",
    "    headers = {\"content-type\": \"application/json\"}\n",
    "        \n",
    "    # js = {\"initialCode\": 16966723, \"n\": 13576}\n",
    "    params = str.encode(json.dumps(aurelio))\n",
    "\n",
    "    conn.request(\"POST\", \"/supermegapintduperjhonnydeep/MegaSuperDuperProcess_2\", params, headers)\n",
    "\n",
    "    start = time.time()\n",
    "\n",
    "    res = conn.getresponse()\n",
    "    data = res.read()\n",
    "    end = time.time()\n",
    "\n",
    "    print(f'CODIGO INICIAL == {aurelio[\"initial_code\"]}')\n",
    "    print(f'N == {aurelio[\"n\"]}')\n",
    "    print(f'TIME == {(end-start)}')\n",
    "    dados = json.loads(data.decode())\n",
    "\n",
    "    print(dados[\"message\"])\n",
    "\n"
   ]
  }
 ],
 "metadata": {
  "kernelspec": {
   "display_name": "Python 3",
   "language": "python",
   "name": "python3"
  },
  "language_info": {
   "codemirror_mode": {
    "name": "ipython",
    "version": 3
   },
   "file_extension": ".py",
   "mimetype": "text/x-python",
   "name": "python",
   "nbconvert_exporter": "python",
   "pygments_lexer": "ipython3",
   "version": "3.8.8"
  }
 },
 "nbformat": 4,
 "nbformat_minor": 5
}
