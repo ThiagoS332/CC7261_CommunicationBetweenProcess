{
 "cells": [
  {
   "cell_type": "code",
   "execution_count": null,
   "id": "d5add544",
   "metadata": {},
   "outputs": [
    {
     "name": "stdout",
     "output_type": "stream",
     "text": [
      "<socket.socket fd=1296, family=AddressFamily.AF_INET, type=SocketKind.SOCK_STREAM, proto=0, laddr=('10.104.1.118', 6969)>\n",
      "FILHO da P*TA conectado: ('10.104.1.118', 51318)\n",
      "<socket.socket fd=1248, family=AddressFamily.AF_INET, type=SocketKind.SOCK_STREAM, proto=0, laddr=('10.104.1.118', 51319), raddr=('10.104.1.118', 42069)>\n",
      "Resposta do servidor: Obrigado. Desconectando\n"
     ]
    }
   ],
   "source": [
    "import socket\n",
    "with socket.socket(socket.AF_INET, socket.SOCK_STREAM) as server:\n",
    "    server.bind((socket.gethostname(), 6969))\n",
    "    print(server)\n",
    "    server.listen()\n",
    "    while True:\n",
    "        conexao, addr = server.accept()\n",
    "        with conexao:\n",
    "            print(f\"FILHO da P*TA conectado: {addr}\")\n",
    "            while True:\n",
    "                sent_data = conexao.recv(1024)\n",
    "                if not sent_data:\n",
    "                    break\n",
    "                decoded_data = sent_data.decode()\n",
    "                data_list = decoded_data.split(\"|\")\n",
    "                data_list[0] = int(data_list[0])\n",
    "                data_list[1] = int(data_list[1])\n",
    "                if(data_list[0] <= 10000000):\n",
    "                    conexao.sendall(b\"MANDA O CODIGO INICIAL DIREITO DESGRAssA. METE O PEh\")\n",
    "                    break\n",
    "                if(data_list[1] < 5000 or data_list[1] > 15000):\n",
    "                    conexao.sendall(b\"MANDA O BAGULHO DESCONHECIDO CERTO RAPUTENGA. METE O PEh\")\n",
    "                    break\n",
    "                #print(f\"Mensagem recebida: {dados.decode()}\")\n",
    "                with socket.socket(socket.AF_INET, socket.SOCK_STREAM) as process_client:\n",
    "                    process_client.connect((\"10.104.1.118\", 42069))\n",
    "                    print(process_client)\n",
    "                    process_client.sendall(b\"FALA OI ARROMBADO\")\n",
    "                    dados = process_client.recv(1024)\n",
    "                    print(f\"Resposta do servidor: {dados.decode()}\")\n",
    "                conexao.sendall(b\"VAI TOMA NO CU DESGRAssA. Desconectando\")\n"
   ]
  }
 ],
 "metadata": {
  "kernelspec": {
   "display_name": "Python 3",
   "language": "python",
   "name": "python3"
  },
  "language_info": {
   "codemirror_mode": {
    "name": "ipython",
    "version": 3
   },
   "file_extension": ".py",
   "mimetype": "text/x-python",
   "name": "python",
   "nbconvert_exporter": "python",
   "pygments_lexer": "ipython3",
   "version": "3.8.8"
  }
 },
 "nbformat": 4,
 "nbformat_minor": 5
}
