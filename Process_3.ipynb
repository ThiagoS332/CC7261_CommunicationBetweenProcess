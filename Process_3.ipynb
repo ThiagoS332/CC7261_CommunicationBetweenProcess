{
 "cells": [
  {
   "cell_type": "code",
   "execution_count": null,
   "id": "081942f9",
   "metadata": {},
   "outputs": [
    {
     "name": "stdout",
     "output_type": "stream",
     "text": [
      "<socket.socket fd=728, family=AddressFamily.AF_INET, type=SocketKind.SOCK_STREAM, proto=0, laddr=('192.168.10.112', 42069)>\n",
      "Cliente adentrou-me: ('192.168.10.112', 63177)\n",
      "['11032009', '5001']\n",
      "Mensagem recebida: 11032009\n",
      "11112161\n",
      "10950109\n"
     ]
    }
   ],
   "source": [
    "import socket\n",
    "\n",
    "def nextprime(n):\n",
    "    prime=0\n",
    "    n+=1\n",
    "    for i in range(2,int(n**0.5)+2):\n",
    "        if n%i==0:\n",
    "            prime=0\n",
    "            break\n",
    "        else:\n",
    "            prime=1\n",
    "    if prime==1:\n",
    "        return n\n",
    "    else:\n",
    "        return nextprime(n)\n",
    "    \n",
    "def lastprime(n):\n",
    "    prime=0\n",
    "    n-=1\n",
    "    for i in range(2,int(n**0.5)+2):\n",
    "        if n%i==0:\n",
    "            prime=0\n",
    "            break\n",
    "        else:\n",
    "            prime=1\n",
    "    if prime==1:\n",
    "        return n\n",
    "    else:\n",
    "        return lastprime(n)\n",
    "\n",
    "def server_process_3():\n",
    "    with socket.socket(socket.AF_INET, socket.SOCK_STREAM) as s:\n",
    "        s.bind((socket.gethostname(), 42069))\n",
    "        print(s)\n",
    "        s.listen()\n",
    "        while True:\n",
    "            conexao, addr = s.accept()\n",
    "            with conexao:\n",
    "                print(f\"Cliente adentrou-me: {addr}\")\n",
    "                while True:\n",
    "                    sent_data = conexao.recv(1024)\n",
    "                    if not sent_data:\n",
    "                        break\n",
    "                    decoded_data = sent_data.decode()\n",
    "                    data_list = decoded_data.split(\"|\")\n",
    "                    print(data_list)\n",
    "                    inicial_code = int(data_list[0])\n",
    "                    n = int(data_list[1])\n",
    "                    print(f\"Mensagem recebida: {inicial_code}\")\n",
    "                    #devolve o n-ésimo número primo seguinte ao código inicial\n",
    "                    for i in range(n):\n",
    "                        if(i == 0):\n",
    "                            n_next_prime = nextprime(inicial_code)\n",
    "                            n_last_prime = lastprime(inicial_code)\n",
    "                        n_next_prime = nextprime(n_next_prime)\n",
    "                        n_last_prime = lastprime(n_last_prime)\n",
    "                    print(n_next_prime)\n",
    "                    print(n_last_prime)\n",
    "                    answer = str(n_next_prime) + str(n_last_prime)\n",
    "                    conexao.sendall(answer.encode())\n",
    "\n",
    "server_process_3()"
   ]
  }
 ],
 "metadata": {
  "kernelspec": {
   "display_name": "Python 3 (ipykernel)",
   "language": "python",
   "name": "python3"
  },
  "language_info": {
   "codemirror_mode": {
    "name": "ipython",
    "version": 3
   },
   "file_extension": ".py",
   "mimetype": "text/x-python",
   "name": "python",
   "nbconvert_exporter": "python",
   "pygments_lexer": "ipython3",
   "version": "3.9.7"
  }
 },
 "nbformat": 4,
 "nbformat_minor": 5
}
