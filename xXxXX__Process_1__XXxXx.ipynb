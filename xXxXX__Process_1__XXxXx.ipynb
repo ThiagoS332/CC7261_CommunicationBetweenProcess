{
 "cells": [
  {
   "cell_type": "code",
   "execution_count": 1,
   "id": "9e78aaff",
   "metadata": {},
   "outputs": [
    {
     "name": "stdout",
     "output_type": "stream",
     "text": [
      "Insert the Inicial Code: 12000000\n",
      "Whatever da f*ck is this: 7500\n",
      "<socket.socket fd=1260, family=AddressFamily.AF_INET, type=SocketKind.SOCK_STREAM, proto=0, laddr=('10.104.1.118', 51318), raddr=('10.104.1.118', 6969)>\n",
      "Resposta do servidor: VAI TOMA NO CU DESGRAssA. Desconectando\n"
     ]
    }
   ],
   "source": [
    "import socket\n",
    "inicial_code = str(int(input(\"Insert the Inicial Code: \")))\n",
    "n = str(int(input(\"Whatever da f*ck is this: \")))\n",
    "with socket.socket(socket.AF_INET, socket.SOCK_STREAM) as s:\n",
    "    s.connect((\"10.104.1.118\", 6969))\n",
    "    print(s)\n",
    "    s.sendall(inicial_code.encode())\n",
    "    s.sendall(b\"|\")\n",
    "    s.sendall(n.encode())\n",
    "    dados = s.recv(1024)\n",
    "    print(f\"Resposta do servidor: {dados.decode()}\")\n"
   ]
  }
 ],
 "metadata": {
  "kernelspec": {
   "display_name": "Python 3",
   "language": "python",
   "name": "python3"
  },
  "language_info": {
   "codemirror_mode": {
    "name": "ipython",
    "version": 3
   },
   "file_extension": ".py",
   "mimetype": "text/x-python",
   "name": "python",
   "nbconvert_exporter": "python",
   "pygments_lexer": "ipython3",
   "version": "3.8.8"
  }
 },
 "nbformat": 4,
 "nbformat_minor": 5
}
