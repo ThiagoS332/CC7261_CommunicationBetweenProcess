{
 "cells": [
  {
   "cell_type": "code",
   "execution_count": null,
   "id": "081942f9",
   "metadata": {},
   "outputs": [
    {
     "name": "stdout",
     "output_type": "stream",
     "text": [
      "<socket.socket fd=1292, family=AddressFamily.AF_INET, type=SocketKind.SOCK_STREAM, proto=0, laddr=('10.104.1.118', 42069)>\n",
      "Cliente adentrou-me: ('10.104.1.118', 51287)\n",
      "Mensagem recebida: FALA OI ARROMBADO\n",
      "Cliente adentrou-me: ('10.104.1.118', 51319)\n",
      "Mensagem recebida: FALA OI ARROMBADO\n"
     ]
    }
   ],
   "source": [
    "import socket\n",
    "with socket.socket(socket.AF_INET, socket.SOCK_STREAM) as s:\n",
    "    s.bind((socket.gethostname(), 42069))\n",
    "    print(s)\n",
    "    s.listen()\n",
    "    while True:\n",
    "        conexao, addr = s.accept()\n",
    "        with conexao:\n",
    "            print(f\"Cliente adentrou-me: {addr}\")\n",
    "            while True:\n",
    "                dados = conexao.recv(1024)\n",
    "                if not dados:\n",
    "                    break\n",
    "                print(f\"Mensagem recebida: {dados.decode()}\")\n",
    "                conexao.sendall(b\"Obrigado. Desconectando\")\n"
   ]
  }
 ],
 "metadata": {
  "kernelspec": {
   "display_name": "Python 3",
   "language": "python",
   "name": "python3"
  },
  "language_info": {
   "codemirror_mode": {
    "name": "ipython",
    "version": 3
   },
   "file_extension": ".py",
   "mimetype": "text/x-python",
   "name": "python",
   "nbconvert_exporter": "python",
   "pygments_lexer": "ipython3",
   "version": "3.8.8"
  }
 },
 "nbformat": 4,
 "nbformat_minor": 5
}
